{
  "nbformat": 4,
  "nbformat_minor": 0,
  "metadata": {
    "colab": {
      "name": "Final_Year_Project.ipynb",
      "provenance": [],
      "toc_visible": true,
      "authorship_tag": "ABX9TyMDAoQzgHA49NklVQvCPbgZ",
      "include_colab_link": true
    },
    "kernelspec": {
      "name": "python3",
      "display_name": "Python 3"
    },
    "accelerator": "GPU"
  },
  "cells": [
    {
      "cell_type": "markdown",
      "metadata": {
        "id": "view-in-github",
        "colab_type": "text"
      },
      "source": [
        "<a href=\"https://colab.research.google.com/github/PradyumnaGupta/pcb_defect_analysis/blob/master/Final_Year_Project.ipynb\" target=\"_parent\"><img src=\"https://colab.research.google.com/assets/colab-badge.svg\" alt=\"Open In Colab\"/></a>"
      ]
    },
    {
      "cell_type": "markdown",
      "metadata": {
        "id": "DOUamaK8qZwc"
      },
      "source": [
        "# Preparing Data"
      ]
    },
    {
      "cell_type": "code",
      "metadata": {
        "colab": {
          "base_uri": "https://localhost:8080/"
        },
        "id": "jupwd2rCnUCX",
        "outputId": "76d56cb6-ae32-49b6-bd3e-bb914bb1f7b5"
      },
      "source": [
        "!git clone https://github.com/tangsanli5201/DeepPCB.git"
      ],
      "execution_count": null,
      "outputs": [
        {
          "output_type": "stream",
          "text": [
            "Cloning into 'DeepPCB'...\n",
            "remote: Enumerating objects: 4753, done.\u001b[K\n",
            "remote: Total 4753 (delta 0), reused 0 (delta 0), pack-reused 4753\u001b[K\n",
            "Receiving objects: 100% (4753/4753), 85.81 MiB | 26.28 MiB/s, done.\n",
            "Resolving deltas: 100% (191/191), done.\n",
            "Checking out files: 100% (4548/4548), done.\n"
          ],
          "name": "stdout"
        }
      ]
    },
    {
      "cell_type": "code",
      "metadata": {
        "id": "y7nttc3sshZc"
      },
      "source": [
        "!mkdir train_images\n",
        "!mkdir val_images"
      ],
      "execution_count": null,
      "outputs": []
    },
    {
      "cell_type": "code",
      "metadata": {
        "id": "PeO0LirLxQpH"
      },
      "source": [
        "import cv2\n",
        "\n",
        "def subtract_image(image_path_1,image_path_2):\n",
        "    image1 = cv2.imread(image_path_1)\n",
        "    image2 = cv2.imread(image_path_2)\n",
        "    difference = cv2.subtract(image1, image2)\n",
        "    Conv_hsv_Gray = cv2.cvtColor(difference, cv2.COLOR_BGR2GRAY)\n",
        "    ret, mask = cv2.threshold(Conv_hsv_Gray, 0, 255, cv2.THRESH_BINARY_INV | cv2.THRESH_OTSU)\n",
        "    difference[mask != 255] = [0, 0, 255]\n",
        "    image1[mask != 255] = [0, 0, 255]\n",
        "    image2[mask != 255] = [0, 0, 255]\n",
        "    return image2\n",
        "\n",
        "# import cv2\n",
        "\n",
        "# def subtract_image(image_path_1,image_path_2):\n",
        "#     image1 = cv2.imread(image_path_1)\n",
        "#     image2 = cv2.imread(image_path_2)\n",
        "#     difference = cv2.subtract(image1, image2)\n",
        "#     Conv_hsv_Gray = cv2.cvtColor(difference, cv2.COLOR_BGR2GRAY)\n",
        "#     ret, mask = cv2.threshold(Conv_hsv_Gray, 0, 255, cv2.THRESH_BINARY_INV | cv2.THRESH_OTSU)\n",
        "#     difference[mask != 255] = [0, 0, 255]\n",
        "\n",
        "#     difference = cv2.subtract(image2, image1)\n",
        "#     Conv_hsv_Gray = cv2.cvtColor(difference, cv2.COLOR_BGR2GRAY)\n",
        "#     ret, mask1 = cv2.threshold(Conv_hsv_Gray, 0, 255, cv2.THRESH_BINARY_INV | cv2.THRESH_OTSU)\n",
        "#     difference[mask1 != 255] = [0, 0, 255]\n",
        "\n",
        "#     image1[mask != 255] = [0, 0, 255]\n",
        "#     image2[mask != 255] = [0, 0, 255]\n",
        "#     image2[mask1 != 255] = [0, 255, 0]\n",
        "\n",
        "\n",
        "#     return image2    "
      ],
      "execution_count": null,
      "outputs": []
    },
    {
      "cell_type": "code",
      "metadata": {
        "colab": {
          "base_uri": "https://localhost:8080/"
        },
        "id": "npvyPlX0qeHz",
        "outputId": "651d8625-30e6-4a9d-e48d-d2b0355b309f"
      },
      "source": [
        "import os,glob\n",
        "from tqdm import tqdm\n",
        "\n",
        "groups = glob.glob(\"/content/DeepPCB/PCBData/*\")\n",
        "\n",
        "train_data = []\n",
        "val_data = []\n",
        "\n",
        "count = 0\n",
        "\n",
        "for group in groups:\n",
        "  try :\n",
        "    images_folder,txts_folder = sorted(os.listdir(group))\n",
        "  except:\n",
        "    continue\n",
        "  group+=\"/\"\n",
        "  template_images = sorted(glob.glob(group + images_folder + \"/*_temp.jpg\"))\n",
        "  test_images = sorted(glob.glob(group + images_folder + \"/*_test.jpg\"))\n",
        "  txts = sorted(glob.glob(group + txts_folder))\n",
        "\n",
        "  for i,(img1,img2) in tqdm(enumerate(zip(template_images,test_images))):\n",
        "    image = subtract_image(img1,img2)\n",
        "    index = img1.split(\"/\")[-1].split(\"_\")[0]\n",
        "    try:\n",
        "      with open(group+txts_folder+\"/\"+index+\".txt\") as f:\n",
        "        for line in f:\n",
        "          line = list(map(int,line.split(\"\\n\")[0].split(\" \")))\n",
        "          if i>0.9*len(test_images):\n",
        "            cv2.imwrite(\"val_images/extract_{}.jpg\".format(count),image[line[1]:line[3],line[0]:line[2]])\n",
        "            val_data.append([\"extract_{}.jpg\".format(count),line[4]])\n",
        "          else :  \n",
        "            cv2.imwrite(\"train_images/extract_{}.jpg\".format(count),image[line[1]:line[3],line[0]:line[2]])\n",
        "            train_data.append([\"extract_{}.jpg\".format(count),line[4]])\n",
        "          count+=1\n",
        "    except:\n",
        "       continue     "
      ],
      "execution_count": null,
      "outputs": [
        {
          "output_type": "stream",
          "text": [
            "14it [00:00, 77.77it/s]\n",
            "325it [00:03, 88.30it/s]\n",
            "146it [00:01, 88.11it/s]\n",
            "100it [00:01, 91.18it/s]\n",
            "74it [00:01, 70.43it/s]\n",
            "120it [00:01, 93.67it/s]\n",
            "79it [00:00, 89.60it/s]\n",
            "216it [00:02, 90.65it/s] \n",
            "221it [00:02, 88.94it/s]\n",
            "98it [00:01, 80.32it/s]\n",
            "107it [00:01, 99.27it/s]\n"
          ],
          "name": "stderr"
        }
      ]
    },
    {
      "cell_type": "code",
      "metadata": {
        "id": "AYHDKXHj47Kd"
      },
      "source": [
        "import pandas as pd\n",
        "\n",
        "train = pd.DataFrame(train_data)\n",
        "train.columns = [\"name\",\"label\"]\n",
        "val = pd.DataFrame(val_data)\n",
        "val.columns = [\"name\",\"label\"]"
      ],
      "execution_count": null,
      "outputs": []
    },
    {
      "cell_type": "code",
      "metadata": {
        "id": "gLBCOVxx-cu-"
      },
      "source": [
        "train.to_csv(\"pcb_train.csv\",index=False)\n",
        "val.to_csv(\"pcb_val.csv\",index=False)"
      ],
      "execution_count": null,
      "outputs": []
    },
    {
      "cell_type": "code",
      "metadata": {
        "colab": {
          "base_uri": "https://localhost:8080/"
        },
        "id": "aIEsAc9SBHqs",
        "outputId": "cd88e52d-b2b6-4326-d2ff-537007b22539"
      },
      "source": [
        "from google.colab import drive\n",
        "drive.mount('/content/drive')"
      ],
      "execution_count": null,
      "outputs": [
        {
          "output_type": "stream",
          "text": [
            "Mounted at /content/drive\n"
          ],
          "name": "stdout"
        }
      ]
    },
    {
      "cell_type": "code",
      "metadata": {
        "id": "bth098Qj-rmT"
      },
      "source": [
        "!mv train_images drive/MyDrive/pcb_train_images\n",
        "!mv val_images drive/MyDrive/pcb_val_images\n",
        "\n",
        "!mv pcb_train.csv drive/MyDrive/\n",
        "!mv pcb_val.csv drive/MyDrive/"
      ],
      "execution_count": null,
      "outputs": []
    },
    {
      "cell_type": "code",
      "metadata": {
        "colab": {
          "base_uri": "https://localhost:8080/"
        },
        "id": "7ECHOb4WAosk",
        "outputId": "079e2355-7429-4094-b108-e6a2fae225c6"
      },
      "source": [
        "import cv2,glob\n",
        "\n",
        "imgs = glob.glob(\"drive/MyDrive/pcb_train_images/*\")\n",
        "\n",
        "max_l = 0\n",
        "max_h = 0 \n",
        "\n",
        "for img in imgs:\n",
        "  s = cv2.imread(img).shape\n",
        "  max_l = max(s[0],max_l)\n",
        "  max_h = max(s[1],max_h)\n",
        "\n",
        "imgs = glob.glob(\"drive/MyDrive/pcb_val_images/*\")\n",
        "\n",
        "for img in imgs:\n",
        "  s = cv2.imread(img).shape\n",
        "  max_l = max(s[0],max_l)\n",
        "  max_h = max(s[1],max_h)\n",
        "\n",
        "print(max_l,max_h)"
      ],
      "execution_count": null,
      "outputs": [
        {
          "output_type": "stream",
          "text": [
            "152 173\n"
          ],
          "name": "stdout"
        }
      ]
    },
    {
      "cell_type": "markdown",
      "metadata": {
        "id": "p_Lky8NnCVAG"
      },
      "source": [
        "# Constructing Dataloaders"
      ]
    },
    {
      "cell_type": "code",
      "metadata": {
        "colab": {
          "base_uri": "https://localhost:8080/"
        },
        "id": "KnSxJeg8oH53",
        "outputId": "b6b2a1f6-fbc3-436d-cae6-fc3f75d2cdac"
      },
      "source": [
        "!pip install pretrainedmodels\n",
        "!pip install timm"
      ],
      "execution_count": null,
      "outputs": [
        {
          "output_type": "stream",
          "text": [
            "Collecting pretrainedmodels\n",
            "\u001b[?25l  Downloading https://files.pythonhosted.org/packages/84/0e/be6a0e58447ac16c938799d49bfb5fb7a80ac35e137547fc6cee2c08c4cf/pretrainedmodels-0.7.4.tar.gz (58kB)\n",
            "\r\u001b[K     |█████▋                          | 10kB 10.2MB/s eta 0:00:01\r\u001b[K     |███████████▏                    | 20kB 10.0MB/s eta 0:00:01\r\u001b[K     |████████████████▊               | 30kB 7.8MB/s eta 0:00:01\r\u001b[K     |██████████████████████▎         | 40kB 7.0MB/s eta 0:00:01\r\u001b[K     |███████████████████████████▉    | 51kB 4.2MB/s eta 0:00:01\r\u001b[K     |████████████████████████████████| 61kB 1.5MB/s \n",
            "\u001b[?25hRequirement already satisfied: torch in /usr/local/lib/python3.7/dist-packages (from pretrainedmodels) (1.8.1+cu101)\n",
            "Requirement already satisfied: torchvision in /usr/local/lib/python3.7/dist-packages (from pretrainedmodels) (0.9.1+cu101)\n",
            "Collecting munch\n",
            "  Downloading https://files.pythonhosted.org/packages/cc/ab/85d8da5c9a45e072301beb37ad7f833cd344e04c817d97e0cc75681d248f/munch-2.5.0-py2.py3-none-any.whl\n",
            "Requirement already satisfied: tqdm in /usr/local/lib/python3.7/dist-packages (from pretrainedmodels) (4.41.1)\n",
            "Requirement already satisfied: numpy in /usr/local/lib/python3.7/dist-packages (from torch->pretrainedmodels) (1.19.5)\n",
            "Requirement already satisfied: typing-extensions in /usr/local/lib/python3.7/dist-packages (from torch->pretrainedmodels) (3.7.4.3)\n",
            "Requirement already satisfied: pillow>=4.1.1 in /usr/local/lib/python3.7/dist-packages (from torchvision->pretrainedmodels) (7.1.2)\n",
            "Requirement already satisfied: six in /usr/local/lib/python3.7/dist-packages (from munch->pretrainedmodels) (1.15.0)\n",
            "Building wheels for collected packages: pretrainedmodels\n",
            "  Building wheel for pretrainedmodels (setup.py) ... \u001b[?25l\u001b[?25hdone\n",
            "  Created wheel for pretrainedmodels: filename=pretrainedmodels-0.7.4-cp37-none-any.whl size=60963 sha256=d1bd41e2f178e59076f87da1a52447ec821cf000a9474d9099f3b67eb1926b91\n",
            "  Stored in directory: /root/.cache/pip/wheels/69/df/63/62583c096289713f22db605aa2334de5b591d59861a02c2ecd\n",
            "Successfully built pretrainedmodels\n",
            "Installing collected packages: munch, pretrainedmodels\n",
            "Successfully installed munch-2.5.0 pretrainedmodels-0.7.4\n",
            "Collecting timm\n",
            "\u001b[?25l  Downloading https://files.pythonhosted.org/packages/9e/89/d94f59780b5dd973154bf506d8ce598f6bfe7cc44dd445d644d6d3be8c39/timm-0.4.5-py3-none-any.whl (287kB)\n",
            "\u001b[K     |████████████████████████████████| 296kB 5.6MB/s \n",
            "\u001b[?25hRequirement already satisfied: torchvision in /usr/local/lib/python3.7/dist-packages (from timm) (0.9.1+cu101)\n",
            "Requirement already satisfied: torch>=1.4 in /usr/local/lib/python3.7/dist-packages (from timm) (1.8.1+cu101)\n",
            "Requirement already satisfied: numpy in /usr/local/lib/python3.7/dist-packages (from torchvision->timm) (1.19.5)\n",
            "Requirement already satisfied: pillow>=4.1.1 in /usr/local/lib/python3.7/dist-packages (from torchvision->timm) (7.1.2)\n",
            "Requirement already satisfied: typing-extensions in /usr/local/lib/python3.7/dist-packages (from torch>=1.4->timm) (3.7.4.3)\n",
            "Installing collected packages: timm\n",
            "Successfully installed timm-0.4.5\n"
          ],
          "name": "stdout"
        }
      ]
    },
    {
      "cell_type": "code",
      "metadata": {
        "colab": {
          "base_uri": "https://localhost:8080/"
        },
        "id": "sE5WsMFECb4v",
        "outputId": "535ef538-51a1-4a87-8705-a1abe13e5160"
      },
      "source": [
        "import pandas as pd\n",
        "import numpy\n",
        "from sklearn.model_selection import train_test_split\n",
        "import os\n",
        "\n",
        "import matplotlib.pyplot as plt \n",
        "import imageio\n",
        "import PIL\n",
        "from PIL import ImageFile\n",
        "import cv2\n",
        "import numpy as np\n",
        "from IPython.display import display\n",
        "from tqdm import tqdm\n",
        "from imblearn.over_sampling import RandomOverSampler\n",
        "\n",
        "import torch\n",
        "import torch.nn as nn\n",
        "from torch.nn import functional as F\n",
        "import pretrainedmodels\n",
        "import torch.optim as optim\n",
        "from sklearn.metrics import f1_score,accuracy_score,roc_auc_score\n",
        "import math\n",
        "import time\n",
        "import albumentations\n",
        "\n",
        "ImageFile.LOAD_TRUNCATED_IMAGES = True\n",
        "%matplotlib inline"
      ],
      "execution_count": null,
      "outputs": [
        {
          "output_type": "stream",
          "text": [
            "/usr/local/lib/python3.7/dist-packages/sklearn/externals/six.py:31: FutureWarning: The module is deprecated in version 0.21 and will be removed in version 0.23 since we've dropped support for Python 2.7. Please rely on the official version of six (https://pypi.org/project/six/).\n",
            "  \"(https://pypi.org/project/six/).\", FutureWarning)\n",
            "/usr/local/lib/python3.7/dist-packages/sklearn/utils/deprecation.py:144: FutureWarning: The sklearn.neighbors.base module is  deprecated in version 0.22 and will be removed in version 0.24. The corresponding classes / functions should instead be imported from sklearn.neighbors. Anything that cannot be imported from sklearn.neighbors is now part of the private API.\n",
            "  warnings.warn(message, FutureWarning)\n"
          ],
          "name": "stderr"
        }
      ]
    },
    {
      "cell_type": "code",
      "metadata": {
        "id": "7y6OOQT7Jj-S"
      },
      "source": [
        "class Dataset(torch.utils.data.Dataset):\n",
        "\n",
        "  def __init__(self, image_names, labels,augmentations,file_path,testing=False):\n",
        "      'Initialization'\n",
        "      self.labels = labels\n",
        "      self.image_names = image_names\n",
        "      self.file_path=file_path\n",
        "      self.testing=testing\n",
        "      self.augmentations=augmentations\n",
        "\n",
        "  def __len__(self):\n",
        "      'Denotes the total number of samples'\n",
        "      return len(self.image_names)\n",
        "\n",
        "  def __getitem__(self, index):\n",
        "      'Generates one sample of data'\n",
        "      # Select sample\n",
        "      image_name = self.image_names[index]\n",
        "\n",
        "      # Load data and get label\n",
        "      #img = PIL.Image.open('../input/siim-isic-melanoma-classification/jpeg/train/'+image_name+'.jpg')\n",
        "      #img= cv2.imread('../input/siim-isic-melanoma-classification/jpeg/train/'+image_name+'.jpg')\n",
        "      #img = cv2.cvtColor(img, cv2.COLOR_BGR2RGB)\n",
        "      #img=img.resize((256,256))\n",
        "      #img=cv2.resize(cv2.cvtColor(img, cv2.COLOR_BGR2RGB),(256,256))\n",
        "      #img=np.transpose(np.array(img), (2, 0, 1)).astype(np.float32)\n",
        "      img = PIL.Image.open(self.file_path+image_name)\n",
        "      # img.draft('RGB',(256,256))\n",
        "      img=np.array(img)\n",
        "      img=cv2.resize(img,(128,128))\n",
        "      \n",
        "      img=self.augmentations(image=img)['image']\n",
        "      \n",
        "      img=np.transpose(np.array(img), (2, 0, 1)).astype(np.float32)\n",
        "      X = torch.from_numpy(img)\n",
        "      \n",
        "      if not self.testing:\n",
        "          y = self.labels[index]-1\n",
        "      else :\n",
        "          y=0\n",
        "\n",
        "      return X, y\n"
      ],
      "execution_count": null,
      "outputs": []
    },
    {
      "cell_type": "code",
      "metadata": {
        "id": "gGr3CdLWn6Zs"
      },
      "source": [
        "import timm \n",
        "class Net(nn.Module):\n",
        "    \n",
        "    def __init__(self):\n",
        "        super(Net,self).__init__()\n",
        "        # self.model=pretrainedmodels.__dict__['se_resnext101_32x4d']()\n",
        "        self.model = timm.create_model('tf_efficientnet_b4_ns', pretrained=True)\n",
        "        self.relu=nn.ReLU()\n",
        "        self.linear=nn.Linear(in_features=1000,out_features=6)\n",
        "        \n",
        "    def forward(self,images):\n",
        "        step=self.model(images)\n",
        "        step=self.relu(step)\n",
        "        step=self.linear(step)\n",
        "        return step"
      ],
      "execution_count": null,
      "outputs": []
    },
    {
      "cell_type": "code",
      "metadata": {
        "id": "byTtquOc5CO7"
      },
      "source": [
        "data_train = pd.read_csv(\"/content/drive/MyDrive/pcb_train.csv\")\n",
        "data_val = pd.read_csv(\"/content/drive/MyDrive/pcb_val.csv\")"
      ],
      "execution_count": null,
      "outputs": []
    },
    {
      "cell_type": "code",
      "metadata": {
        "id": "_JNsbt-ln6XV"
      },
      "source": [
        "use_cuda = torch.cuda.is_available()\n",
        "device = torch.device(\"cuda:0\" if use_cuda else \"cpu\")\n",
        "torch.backends.cudnn.benchmark = True\n",
        "\n",
        "train_aug = albumentations.Compose(\n",
        "    [\n",
        "        albumentations.Normalize(always_apply=True),\n",
        "        albumentations.ShiftScaleRotate(rotate_limit=45),\n",
        "        albumentations.Flip(p=0.5),\n",
        "        albumentations.PadIfNeeded(128,128)   \n",
        "    ]\n",
        ")\n",
        "\n",
        "valid_aug = albumentations.Compose(\n",
        "    [\n",
        "        albumentations.Normalize(always_apply=True),\n",
        "        albumentations.PadIfNeeded(128,128)   \n",
        "    ]\n",
        ")\n",
        "\n",
        "test_aug = albumentations.Compose(\n",
        "    [\n",
        "        albumentations.Normalize(always_apply=True),\n",
        "        albumentations.PadIfNeeded(128,128)   \n",
        "    ]\n",
        ")\n",
        "\n",
        "\n",
        "train_images = data_train.name.values.tolist()\n",
        "train_targets = data_train.label.values\n",
        "\n",
        "training_set = Dataset(train_images, train_targets,train_aug,'/content/drive/MyDrive/pcb_train_images/')\n",
        "training_generator = torch.utils.data.DataLoader(training_set, \n",
        "                                                 batch_size=32,num_workers=4,shuffle=False\n",
        "                                                )\n",
        "\n",
        "validation_images = data_val.name.values.tolist()\n",
        "validation_targets = data_val.label.values\n",
        "\n",
        "validation_set = Dataset(validation_images, validation_targets,valid_aug,'/content/drive/MyDrive/pcb_val_images/')\n",
        "validation_generator = torch.utils.data.DataLoader(validation_set, \n",
        "                                                 batch_size=32,num_workers=4,shuffle=False                                                )\n",
        "\n",
        "# test_images = data_test.image_name.values.tolist()\n",
        "\n",
        "# testing_set = Dataset(test_images, _,test_aug,'../input/siim-isic-melanoma-classification/jpeg/test/',True)\n",
        "# testing_generator = torch.utils.data.DataLoader(testing_set, \n",
        "#                                                  batch_size=32,num_workers=4,shuffle=False\n",
        "#                                                 )"
      ],
      "execution_count": null,
      "outputs": []
    },
    {
      "cell_type": "markdown",
      "metadata": {
        "id": "MtDIPvJGPI3G"
      },
      "source": [
        "# Model Training"
      ]
    },
    {
      "cell_type": "code",
      "metadata": {
        "id": "bTMGXaRhn6Qa"
      },
      "source": [
        "model=Net()\n",
        "model.cuda()\n",
        "criterion = nn.CrossEntropyLoss()\n",
        "optimizer = optim.Adam(model.parameters(), lr=3e-4)"
      ],
      "execution_count": null,
      "outputs": []
    },
    {
      "cell_type": "code",
      "metadata": {
        "id": "aWzXcBnSNOxX"
      },
      "source": [
        "class AverageMeter:\n",
        "    \n",
        "    def __init__(self):\n",
        "        self.reset()\n",
        "    \n",
        "    def reset(self):\n",
        "        self.val=0\n",
        "        self.avg=0\n",
        "        self.sum=0\n",
        "        self.count=0\n",
        "    \n",
        "    def update(self,val,n=1):\n",
        "        self.val=val\n",
        "        self.sum = self.sum + val*n\n",
        "        self.count = self.count + n\n",
        "        self.avg=self.sum/self.count"
      ],
      "execution_count": null,
      "outputs": []
    },
    {
      "cell_type": "code",
      "metadata": {
        "colab": {
          "base_uri": "https://localhost:8080/",
          "height": 1000
        },
        "id": "Y3h1L7ean6OP",
        "outputId": "e36ccd32-607f-432a-abc0-3d434c81cffb"
      },
      "source": [
        "loss_meter = AverageMeter()\n",
        "metric_meter = AverageMeter()\n",
        "\n",
        "max_score = 0\n",
        "path = ''\n",
        "\n",
        "model_name = 'eff-b4-ns'\n",
        "\n",
        "for epoch in range(50):\n",
        "\n",
        "    #Training\n",
        "    loss_meter.reset()\n",
        "    metric_meter.reset()\n",
        "    progress = tqdm(training_generator,total=len(training_generator))\n",
        "    for local_batch, local_labels in progress:\n",
        "        # Transfer to GPU\n",
        "        local_batch, local_labels = local_batch.to(device), local_labels.to(device)\n",
        "        \n",
        "        # Model computations\n",
        "        optimizer.zero_grad()\n",
        "        \n",
        "        outputs = model(local_batch)\n",
        "        \n",
        "        loss = criterion(outputs, local_labels)\n",
        "        \n",
        "        model.zero_grad()\n",
        "        loss.backward()\n",
        "        optimizer.step()\n",
        "\n",
        "        score = accuracy_score(list(local_labels.detach().cpu().numpy()),list(outputs.argmax(-1).detach().cpu().numpy()))\n",
        "\n",
        "        metric_meter.update(score)\n",
        "        loss_meter.update(loss.item())\n",
        "\n",
        "        progress.set_postfix(loss=loss_meter.avg,accuracy=metric_meter.avg)\n",
        "\n",
        "    #Validation\n",
        "    loss_meter.reset()\n",
        "    metric_meter.reset()\n",
        "    progress = tqdm(validation_generator,total=len(validation_generator))\n",
        "\n",
        "    for local_batch, local_labels in progress:\n",
        "        # Transfer to GPU\n",
        "        local_batch, local_labels = local_batch.to(device), local_labels.to(device)\n",
        "\n",
        "        # Model computations\n",
        "        with torch.no_grad():\n",
        "          outputs = model(local_batch)\n",
        "          loss = criterion(outputs, local_labels)\n",
        "\n",
        "        score = accuracy_score(list(local_labels.detach().cpu().numpy()),list(outputs.argmax(-1).detach().cpu().numpy()))\n",
        "\n",
        "        metric_meter.update(score)\n",
        "        loss_meter.update(loss.item())      \n",
        "\n",
        "        progress.set_postfix(loss=loss_meter.avg,accuracy=metric_meter.avg)\n",
        "\n",
        "    if metric_meter.avg > max_score:\n",
        "      max_score = metric_meter.avg\n",
        "      if not os.path.exists(\"/content/drive/MyDrive/final_year_project/\"+model_name):\n",
        "        os.system(\"mkdir /content/drive/MyDrive/final_year_project/\"+model_name)\n",
        "      os.system(\"rm {}\".format(path))\n",
        "      path = \"/content/drive/MyDrive/final_year_project/\"+model_name+\"/resnet152-{}.pth\".format(max_score)\n",
        "      torch.save(model.state_dict(),path)"
      ],
      "execution_count": null,
      "outputs": [
        {
          "output_type": "stream",
          "text": [
            "100%|██████████| 286/286 [11:16<00:00,  2.37s/it, accuracy=0.919, loss=0.258]\n",
            "100%|██████████| 27/27 [01:01<00:00,  2.27s/it, accuracy=0.941, loss=0.161]\n",
            "100%|██████████| 286/286 [01:04<00:00,  4.44it/s, accuracy=0.974, loss=0.0843]\n",
            "100%|██████████| 27/27 [00:01<00:00, 13.50it/s, accuracy=0.947, loss=0.172]\n",
            "100%|██████████| 286/286 [01:04<00:00,  4.47it/s, accuracy=0.981, loss=0.0569]\n",
            "100%|██████████| 27/27 [00:02<00:00, 13.37it/s, accuracy=0.944, loss=0.153]\n",
            "100%|██████████| 286/286 [01:03<00:00,  4.47it/s, accuracy=0.98, loss=0.0583]\n",
            "100%|██████████| 27/27 [00:02<00:00, 13.29it/s, accuracy=0.961, loss=0.15]\n",
            "100%|██████████| 286/286 [01:04<00:00,  4.45it/s, accuracy=0.985, loss=0.0427]\n",
            "100%|██████████| 27/27 [00:02<00:00, 13.33it/s, accuracy=0.958, loss=0.0947]\n",
            "100%|██████████| 286/286 [01:04<00:00,  4.46it/s, accuracy=0.985, loss=0.0421]\n",
            "100%|██████████| 27/27 [00:02<00:00, 13.32it/s, accuracy=0.957, loss=0.141]\n",
            "100%|██████████| 286/286 [01:03<00:00,  4.50it/s, accuracy=0.986, loss=0.0405]\n",
            "100%|██████████| 27/27 [00:02<00:00, 13.29it/s, accuracy=0.969, loss=0.0786]\n",
            "100%|██████████| 286/286 [01:04<00:00,  4.41it/s, accuracy=0.985, loss=0.0439]\n",
            "100%|██████████| 27/27 [00:01<00:00, 13.81it/s, accuracy=0.965, loss=0.122]\n",
            "100%|██████████| 286/286 [01:03<00:00,  4.49it/s, accuracy=0.985, loss=0.0405]\n",
            "100%|██████████| 27/27 [00:02<00:00, 13.40it/s, accuracy=0.968, loss=0.103]\n",
            "100%|██████████| 286/286 [01:04<00:00,  4.44it/s, accuracy=0.986, loss=0.0427]\n",
            "100%|██████████| 27/27 [00:02<00:00, 13.42it/s, accuracy=0.961, loss=0.108]\n",
            "100%|██████████| 286/286 [01:04<00:00,  4.47it/s, accuracy=0.987, loss=0.0378]\n",
            "100%|██████████| 27/27 [00:02<00:00, 13.38it/s, accuracy=0.964, loss=0.151]\n",
            "100%|██████████| 286/286 [01:03<00:00,  4.49it/s, accuracy=0.987, loss=0.0375]\n",
            "100%|██████████| 27/27 [00:02<00:00, 12.97it/s, accuracy=0.956, loss=0.167]\n",
            "100%|██████████| 286/286 [01:03<00:00,  4.48it/s, accuracy=0.985, loss=0.0443]\n",
            "100%|██████████| 27/27 [00:02<00:00, 13.24it/s, accuracy=0.963, loss=0.102]\n",
            "100%|██████████| 286/286 [01:04<00:00,  4.46it/s, accuracy=0.988, loss=0.0358]\n",
            "100%|██████████| 27/27 [00:02<00:00, 13.17it/s, accuracy=0.965, loss=0.142]\n",
            "100%|██████████| 286/286 [01:04<00:00,  4.45it/s, accuracy=0.989, loss=0.0334]\n",
            "100%|██████████| 27/27 [00:02<00:00, 13.19it/s, accuracy=0.965, loss=0.12]\n",
            "100%|██████████| 286/286 [01:04<00:00,  4.43it/s, accuracy=0.987, loss=0.0355]\n",
            "100%|██████████| 27/27 [00:02<00:00, 13.22it/s, accuracy=0.966, loss=0.107]\n",
            "100%|██████████| 286/286 [01:04<00:00,  4.44it/s, accuracy=0.988, loss=0.036]\n",
            "100%|██████████| 27/27 [00:02<00:00, 12.58it/s, accuracy=0.966, loss=0.131]\n",
            "100%|██████████| 286/286 [01:04<00:00,  4.41it/s, accuracy=0.986, loss=0.0403]\n",
            "100%|██████████| 27/27 [00:02<00:00, 13.45it/s, accuracy=0.969, loss=0.114]\n",
            "100%|██████████| 286/286 [01:04<00:00,  4.44it/s, accuracy=0.987, loss=0.0321]\n",
            "100%|██████████| 27/27 [00:02<00:00, 13.24it/s, accuracy=0.968, loss=0.119]\n",
            "100%|██████████| 286/286 [01:04<00:00,  4.46it/s, accuracy=0.99, loss=0.0311]\n",
            "100%|██████████| 27/27 [00:02<00:00, 13.15it/s, accuracy=0.963, loss=0.136]\n",
            "100%|██████████| 286/286 [01:04<00:00,  4.42it/s, accuracy=0.987, loss=0.0408]\n",
            "100%|██████████| 27/27 [00:01<00:00, 13.56it/s, accuracy=0.961, loss=0.129]\n",
            "100%|██████████| 286/286 [01:04<00:00,  4.44it/s, accuracy=0.988, loss=0.0345]\n",
            "100%|██████████| 27/27 [00:01<00:00, 13.52it/s, accuracy=0.962, loss=0.178]\n",
            "100%|██████████| 286/286 [01:04<00:00,  4.43it/s, accuracy=0.986, loss=0.0417]\n",
            "100%|██████████| 27/27 [00:02<00:00, 13.48it/s, accuracy=0.965, loss=0.108]\n",
            "100%|██████████| 286/286 [01:04<00:00,  4.41it/s, accuracy=0.99, loss=0.0291]\n",
            "100%|██████████| 27/27 [00:02<00:00, 13.10it/s, accuracy=0.961, loss=0.139]\n",
            "100%|██████████| 286/286 [01:04<00:00,  4.44it/s, accuracy=0.991, loss=0.0247]\n",
            "100%|██████████| 27/27 [00:02<00:00, 13.22it/s, accuracy=0.97, loss=0.114]\n",
            "100%|██████████| 286/286 [01:05<00:00,  4.40it/s, accuracy=0.991, loss=0.0261]\n",
            "100%|██████████| 27/27 [00:01<00:00, 13.73it/s, accuracy=0.968, loss=0.119]\n",
            "100%|██████████| 286/286 [01:04<00:00,  4.41it/s, accuracy=0.99, loss=0.0244]\n",
            "100%|██████████| 27/27 [00:02<00:00, 12.58it/s, accuracy=0.97, loss=0.112]\n",
            "100%|██████████| 286/286 [01:04<00:00,  4.43it/s, accuracy=0.99, loss=0.0269]\n",
            "100%|██████████| 27/27 [00:02<00:00, 13.05it/s, accuracy=0.969, loss=0.116]\n",
            "100%|██████████| 286/286 [01:04<00:00,  4.42it/s, accuracy=0.99, loss=0.0283]\n",
            "100%|██████████| 27/27 [00:02<00:00, 13.45it/s, accuracy=0.966, loss=0.152]\n",
            "100%|██████████| 286/286 [01:04<00:00,  4.42it/s, accuracy=0.988, loss=0.0378]\n",
            "100%|██████████| 27/27 [00:01<00:00, 13.53it/s, accuracy=0.959, loss=0.121]\n",
            "100%|██████████| 286/286 [01:05<00:00,  4.39it/s, accuracy=0.99, loss=0.0292]\n",
            "100%|██████████| 27/27 [00:02<00:00, 13.21it/s, accuracy=0.964, loss=0.117]\n",
            "100%|██████████| 286/286 [01:05<00:00,  4.40it/s, accuracy=0.99, loss=0.0261]\n",
            "100%|██████████| 27/27 [00:02<00:00, 12.53it/s, accuracy=0.964, loss=0.113]\n",
            "100%|██████████| 286/286 [01:04<00:00,  4.41it/s, accuracy=0.992, loss=0.0246]\n",
            "100%|██████████| 27/27 [00:02<00:00, 12.85it/s, accuracy=0.968, loss=0.131]\n",
            "100%|██████████| 286/286 [01:04<00:00,  4.43it/s, accuracy=0.99, loss=0.0312]\n",
            "100%|██████████| 27/27 [00:02<00:00, 12.89it/s, accuracy=0.965, loss=0.121]\n",
            "100%|██████████| 286/286 [01:04<00:00,  4.41it/s, accuracy=0.991, loss=0.0275]\n",
            "100%|██████████| 27/27 [00:02<00:00, 13.35it/s, accuracy=0.971, loss=0.108]\n",
            "100%|██████████| 286/286 [01:04<00:00,  4.41it/s, accuracy=0.991, loss=0.0244]\n",
            "100%|██████████| 27/27 [00:02<00:00, 13.37it/s, accuracy=0.963, loss=0.133]\n",
            "100%|██████████| 286/286 [01:04<00:00,  4.43it/s, accuracy=0.99, loss=0.028]\n",
            "100%|██████████| 27/27 [00:01<00:00, 13.73it/s, accuracy=0.962, loss=0.119]\n",
            "100%|██████████| 286/286 [01:04<00:00,  4.43it/s, accuracy=0.99, loss=0.0301]\n",
            "100%|██████████| 27/27 [00:02<00:00, 12.98it/s, accuracy=0.966, loss=0.146]\n",
            "100%|██████████| 286/286 [01:04<00:00,  4.43it/s, accuracy=0.989, loss=0.0293]\n",
            "100%|██████████| 27/27 [00:02<00:00, 13.23it/s, accuracy=0.968, loss=0.115]\n",
            "100%|██████████| 286/286 [01:04<00:00,  4.44it/s, accuracy=0.991, loss=0.024]\n",
            "100%|██████████| 27/27 [00:02<00:00, 13.09it/s, accuracy=0.969, loss=0.118]\n",
            "100%|██████████| 286/286 [01:04<00:00,  4.44it/s, accuracy=0.99, loss=0.028]\n",
            "100%|██████████| 27/27 [00:02<00:00, 13.40it/s, accuracy=0.97, loss=0.141]\n",
            "100%|██████████| 286/286 [01:04<00:00,  4.45it/s, accuracy=0.989, loss=0.0343]\n",
            "100%|██████████| 27/27 [00:01<00:00, 13.92it/s, accuracy=0.965, loss=0.122]\n",
            "100%|██████████| 286/286 [01:04<00:00,  4.45it/s, accuracy=0.99, loss=0.0277]\n",
            "100%|██████████| 27/27 [00:02<00:00, 13.18it/s, accuracy=0.972, loss=0.0982]\n",
            "100%|██████████| 286/286 [01:04<00:00,  4.44it/s, accuracy=0.991, loss=0.0236]\n",
            "100%|██████████| 27/27 [00:02<00:00, 12.99it/s, accuracy=0.953, loss=0.188]\n",
            "100%|██████████| 286/286 [01:04<00:00,  4.44it/s, accuracy=0.99, loss=0.0273]\n",
            "100%|██████████| 27/27 [00:02<00:00, 12.84it/s, accuracy=0.966, loss=0.122]\n",
            "100%|██████████| 286/286 [01:04<00:00,  4.44it/s, accuracy=0.991, loss=0.0257]\n",
            "100%|██████████| 27/27 [00:02<00:00, 13.31it/s, accuracy=0.97, loss=0.11]\n",
            " 13%|█▎        | 37/286 [00:08<00:55,  4.46it/s, accuracy=0.997, loss=0.012]"
          ],
          "name": "stderr"
        },
        {
          "output_type": "error",
          "ename": "KeyboardInterrupt",
          "evalue": "ignored",
          "traceback": [
            "\u001b[0;31m---------------------------------------------------------------------------\u001b[0m",
            "\u001b[0;31mKeyboardInterrupt\u001b[0m                         Traceback (most recent call last)",
            "\u001b[0;32m<ipython-input-8-04840ce0eef4>\u001b[0m in \u001b[0;36m<module>\u001b[0;34m()\u001b[0m\n\u001b[1;32m     25\u001b[0m \u001b[0;34m\u001b[0m\u001b[0m\n\u001b[1;32m     26\u001b[0m         \u001b[0mmodel\u001b[0m\u001b[0;34m.\u001b[0m\u001b[0mzero_grad\u001b[0m\u001b[0;34m(\u001b[0m\u001b[0;34m)\u001b[0m\u001b[0;34m\u001b[0m\u001b[0;34m\u001b[0m\u001b[0m\n\u001b[0;32m---> 27\u001b[0;31m         \u001b[0mloss\u001b[0m\u001b[0;34m.\u001b[0m\u001b[0mbackward\u001b[0m\u001b[0;34m(\u001b[0m\u001b[0;34m)\u001b[0m\u001b[0;34m\u001b[0m\u001b[0;34m\u001b[0m\u001b[0m\n\u001b[0m\u001b[1;32m     28\u001b[0m         \u001b[0moptimizer\u001b[0m\u001b[0;34m.\u001b[0m\u001b[0mstep\u001b[0m\u001b[0;34m(\u001b[0m\u001b[0;34m)\u001b[0m\u001b[0;34m\u001b[0m\u001b[0;34m\u001b[0m\u001b[0m\n\u001b[1;32m     29\u001b[0m \u001b[0;34m\u001b[0m\u001b[0m\n",
            "\u001b[0;32m/usr/local/lib/python3.7/dist-packages/torch/tensor.py\u001b[0m in \u001b[0;36mbackward\u001b[0;34m(self, gradient, retain_graph, create_graph)\u001b[0m\n\u001b[1;32m    219\u001b[0m                 \u001b[0mretain_graph\u001b[0m\u001b[0;34m=\u001b[0m\u001b[0mretain_graph\u001b[0m\u001b[0;34m,\u001b[0m\u001b[0;34m\u001b[0m\u001b[0;34m\u001b[0m\u001b[0m\n\u001b[1;32m    220\u001b[0m                 create_graph=create_graph)\n\u001b[0;32m--> 221\u001b[0;31m         \u001b[0mtorch\u001b[0m\u001b[0;34m.\u001b[0m\u001b[0mautograd\u001b[0m\u001b[0;34m.\u001b[0m\u001b[0mbackward\u001b[0m\u001b[0;34m(\u001b[0m\u001b[0mself\u001b[0m\u001b[0;34m,\u001b[0m \u001b[0mgradient\u001b[0m\u001b[0;34m,\u001b[0m \u001b[0mretain_graph\u001b[0m\u001b[0;34m,\u001b[0m \u001b[0mcreate_graph\u001b[0m\u001b[0;34m)\u001b[0m\u001b[0;34m\u001b[0m\u001b[0;34m\u001b[0m\u001b[0m\n\u001b[0m\u001b[1;32m    222\u001b[0m \u001b[0;34m\u001b[0m\u001b[0m\n\u001b[1;32m    223\u001b[0m     \u001b[0;32mdef\u001b[0m \u001b[0mregister_hook\u001b[0m\u001b[0;34m(\u001b[0m\u001b[0mself\u001b[0m\u001b[0;34m,\u001b[0m \u001b[0mhook\u001b[0m\u001b[0;34m)\u001b[0m\u001b[0;34m:\u001b[0m\u001b[0;34m\u001b[0m\u001b[0;34m\u001b[0m\u001b[0m\n",
            "\u001b[0;32m/usr/local/lib/python3.7/dist-packages/torch/autograd/__init__.py\u001b[0m in \u001b[0;36mbackward\u001b[0;34m(tensors, grad_tensors, retain_graph, create_graph, grad_variables)\u001b[0m\n\u001b[1;32m    130\u001b[0m     Variable._execution_engine.run_backward(\n\u001b[1;32m    131\u001b[0m         \u001b[0mtensors\u001b[0m\u001b[0;34m,\u001b[0m \u001b[0mgrad_tensors_\u001b[0m\u001b[0;34m,\u001b[0m \u001b[0mretain_graph\u001b[0m\u001b[0;34m,\u001b[0m \u001b[0mcreate_graph\u001b[0m\u001b[0;34m,\u001b[0m\u001b[0;34m\u001b[0m\u001b[0;34m\u001b[0m\u001b[0m\n\u001b[0;32m--> 132\u001b[0;31m         allow_unreachable=True)  # allow_unreachable flag\n\u001b[0m\u001b[1;32m    133\u001b[0m \u001b[0;34m\u001b[0m\u001b[0m\n\u001b[1;32m    134\u001b[0m \u001b[0;34m\u001b[0m\u001b[0m\n",
            "\u001b[0;31mKeyboardInterrupt\u001b[0m: "
          ]
        }
      ]
    },
    {
      "cell_type": "markdown",
      "metadata": {
        "id": "BwtrC4gQaltx"
      },
      "source": [
        "# Inference"
      ]
    },
    {
      "cell_type": "code",
      "metadata": {
        "id": "RO4M2aiCfgVE"
      },
      "source": [
        "import cv2\n",
        "import numpy as np"
      ],
      "execution_count": null,
      "outputs": []
    },
    {
      "cell_type": "code",
      "metadata": {
        "id": "jX9It0EualPZ"
      },
      "source": [
        "def extract_contours_from_image(image, hsv_lower=[0,150,50], hsv_upper=[10,255,255]):\n",
        "    original = image.copy()\n",
        "    hsv = cv2.cvtColor(image, cv2.COLOR_BGR2HSV)\n",
        "    hsv_lower = np.array(hsv_lower)\n",
        "    hsv_upper = np.array(hsv_upper)\n",
        "    mask = cv2.inRange(hsv, hsv_lower, hsv_upper)\n",
        "    kernel = cv2.getStructuringElement(cv2.MORPH_RECT, (3, 3))\n",
        "    opening = cv2.morphologyEx(mask, cv2.MORPH_OPEN, kernel, iterations=1)\n",
        "    close = cv2.morphologyEx(opening, cv2.MORPH_CLOSE, kernel, iterations=1)\n",
        "    cnts = cv2.findContours(close, cv2.RETR_EXTERNAL, cv2.CHAIN_APPROX_SIMPLE)\n",
        "    cnts = cnts[0] if len(cnts) == 2 else cnts[1]\n",
        "    offset = 25\n",
        "    ROI_number = 0\n",
        "    regions = []\n",
        "    for c in cnts:\n",
        "      x, y, w, h = cv2.boundingRect(c)\n",
        "      regions.append([max(x-offset,0),max(y-offset,0),x+w+offset,y+h+offset])\n",
        "\n",
        "    return regions\n",
        "\n",
        "def subtract_image(image_path_1,image_path_2):\n",
        "    image1 = cv2.imread(image_path_1)\n",
        "    image2 = cv2.imread(image_path_2)\n",
        "    difference = cv2.subtract(image1, image2)\n",
        "    Conv_hsv_Gray = cv2.cvtColor(difference, cv2.COLOR_BGR2GRAY)\n",
        "    ret, mask = cv2.threshold(Conv_hsv_Gray, 0, 255, cv2.THRESH_BINARY_INV | cv2.THRESH_OTSU)\n",
        "    difference[mask != 255] = [0, 0, 255]\n",
        "    image1[mask != 255] = [0, 0, 255]\n",
        "    image2[mask != 255] = [0, 0, 255]\n",
        "    return image2    \n",
        "\n",
        "def setLabel(im, label, coord):\n",
        "    fontface = cv2.FONT_HERSHEY_SIMPLEX\n",
        "    scale = 0.4\n",
        "    thickness = 1\n",
        "    baseline = 0\n",
        "\n",
        "    text = cv2.getTextSize(label, fontface, scale, thickness)\n",
        "    \n",
        "    cv2.rectangle(im, coord,(coord[0]+text[0][0],coord[1]-text[0][1]) ,(0,255,0), -1)\n",
        "    cv2.putText(im, label, coord, fontface, scale, (0,0,0), thickness, 8)\n",
        "    return im"
      ],
      "execution_count": null,
      "outputs": []
    },
    {
      "cell_type": "code",
      "metadata": {
        "id": "JlHaYSU2b-Lu"
      },
      "source": [
        "def model_inference(model,path_1,path_2,aug):\n",
        "\n",
        "  img1 = subtract_image(path_1,path_2)\n",
        "  img2 = subtract_image(path_2,path_1)\n",
        "\n",
        "  r1 = extract_contours_from_image(img1)\n",
        "  r2 = extract_contours_from_image(img2)\n",
        "  r1.extend(r2)\n",
        "  \n",
        "  classes = [\"Open\",\"Short\",\"Mousebite\",\"Spur\",\"Copper\",\"Pin_hole\"]\n",
        "  model.cuda()\n",
        "\n",
        "  for r in r1:\n",
        "    region = img1[r[1]:r[3],r[0]:r[2]]\n",
        "    region = cv2.resize(region,(128,128))\n",
        "    region = aug(image = region)['image']\n",
        "    region = np.transpose(region,(2,0,1))\n",
        "    region = torch.Tensor(region).unsqueeze(0).cuda()\n",
        "    output = model(region).argmax(-1).detach().cpu().item()\n",
        "    img1 = setLabel(img1,classes[output],(r[0],r[1]))\n",
        "\n",
        "  for r in r1:\n",
        "    img1 = cv2.rectangle(img1,\n",
        "                        (r[0],r[1]),\n",
        "                        (r[2],r[3]),\n",
        "                        [0,255,0],2)  \n",
        "  return img1"
      ],
      "execution_count": null,
      "outputs": []
    },
    {
      "cell_type": "code",
      "metadata": {
        "colab": {
          "base_uri": "https://localhost:8080/",
          "height": 657
        },
        "id": "I_ytImgqx0aJ",
        "outputId": "2b81156c-34b0-4817-db57-c70303d85c03"
      },
      "source": [
        "import torch\n",
        "from google.colab.patches import cv2_imshow\n",
        "model = Net()\n",
        "model.load_state_dict(torch.load(\"/content/drive/MyDrive/final_year_project/eff-b4-ns/resnet152-0.9722222222222222.pth\"))\n",
        "model.eval()\n",
        "output = model_inference(model,\"/content/DeepPCB/PCBData/group92000/92000/92000115_temp.jpg\",\"/content/DeepPCB/PCBData/group92000/92000/92000115_test.jpg\",test_aug)\n",
        "cv2_imshow(output)"
      ],
      "execution_count": null,
      "outputs": [
        {
          "output_type": "display_data",
          "data": {
            "image/png": "[encoded data removed]",
            "text/plain": [
              "<PIL.Image.Image image mode=RGB size=640x640 at 0x7F8345FB8B50>"
            ]
          },
          "metadata": {
            "tags": []
          }
        }
      ]
    },
    {
      "cell_type": "code",
      "metadata": {
        "id": "eOUxblT5mXVX"
      },
      "source": [
        ""
      ],
      "execution_count": null,
      "outputs": []
    },
    {
      "cell_type": "code",
      "metadata": {
        "id": "McQlTGtAmXL8"
      },
      "source": [
        ""
      ],
      "execution_count": null,
      "outputs": []
    }
  ]
}
